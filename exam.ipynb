{
 "cells": [
  {
   "cell_type": "code",
   "execution_count": 1,
   "id": "c7a6ccdb-2082-4e1b-a499-f79e3252dce8",
   "metadata": {},
   "outputs": [],
   "source": [
    "import pandas as pd\n",
    "import numpy as np\n",
    "from sklearn.neighbors import NearestNeighbors\n",
    "from scipy.sparse import csr_matrix"
   ]
  },
  {
   "cell_type": "code",
   "execution_count": 3,
   "id": "8db18ef1-1169-4546-bc85-153a6b494c20",
   "metadata": {},
   "outputs": [],
   "source": [
    "links = pd.read_csv(\"./ml-latest-small/links.csv\")\n",
    "movies = pd.read_csv(\"./ml-latest-small/movies.csv\")\n",
    "ratings = pd.read_csv(\"./ml-latest-small/ratings.csv\")\n",
    "tags = pd.read_csv(\"./ml-latest-small/tags.csv\")"
   ]
  },
  {
   "cell_type": "code",
   "execution_count": null,
   "id": "e3b6cf5d-2b79-4e7c-a091-ca7b423e86a6",
   "metadata": {},
   "outputs": [],
   "source": [
    "links.head()"
   ]
  }
 ],
 "metadata": {
  "kernelspec": {
   "display_name": "Python 3 (ipykernel)",
   "language": "python",
   "name": "python3"
  },
  "language_info": {
   "codemirror_mode": {
    "name": "ipython",
    "version": 3
   },
   "file_extension": ".py",
   "mimetype": "text/x-python",
   "name": "python",
   "nbconvert_exporter": "python",
   "pygments_lexer": "ipython3",
   "version": "3.12.2"
  }
 },
 "nbformat": 4,
 "nbformat_minor": 5
}
