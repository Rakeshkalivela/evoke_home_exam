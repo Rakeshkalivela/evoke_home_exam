{
 "cells": [
  {
   "cell_type": "code",
   "execution_count": 8,
   "id": "c7a6ccdb-2082-4e1b-a499-f79e3252dce8",
   "metadata": {},
   "outputs": [],
   "source": [
    "import pandas as pd\n",
    "from cf import ItemCF"
   ]
  },
  {
   "cell_type": "code",
   "execution_count": 10,
   "id": "8db18ef1-1169-4546-bc85-153a6b494c20",
   "metadata": {},
   "outputs": [],
   "source": [
    "links = pd.read_csv(\"./data/links.csv\")\n",
    "movies = pd.read_csv(\"./data/movies.csv\")\n",
    "ratings = pd.read_csv(\"./data/ratings.csv\")\n",
    "tags = pd.read_csv(\"./data/tags.csv\")"
   ]
  },
  {
   "cell_type": "markdown",
   "id": "aa92651b-14e8-4502-a2f0-cfe4e516d2f9",
   "metadata": {},
   "source": [
    "## Question 2"
   ]
  },
  {
   "cell_type": "code",
   "execution_count": 12,
   "id": "e3b6cf5d-2b79-4e7c-a091-ca7b423e86a6",
   "metadata": {},
   "outputs": [
    {
     "data": {
      "text/plain": [
       "{260: [1196, 1210, 1198, 2571, 1291, 1270, 2628, 1240, 858, 2028],\n",
       " 1407: [1717, 2710, 1387, 1573, 2115, 3499, 1517, 2502, 1994, 1393],\n",
       " 4993: [7153, 5952, 6539, 2571, 4306, 2959, 4226, 5349, 3578, 33794]}"
      ]
     },
     "execution_count": 12,
     "metadata": {},
     "output_type": "execute_result"
    }
   ],
   "source": [
    "cf = ItemCF(k=10)\n",
    "cf.fit(ratings)\n",
    "similar = cf.most_similar([260, 1407, 4993])\n",
    "similar"
   ]
  },
  {
   "cell_type": "markdown",
   "id": "886e14b2-83be-4c87-8437-ac41e3af4585",
   "metadata": {},
   "source": [
    "## Question 3"
   ]
  },
  {
   "cell_type": "code",
   "execution_count": null,
   "id": "07944f8c-f23a-4ba5-b41d-5d10616728e7",
   "metadata": {},
   "outputs": [],
   "source": []
  },
  {
   "cell_type": "code",
   "execution_count": null,
   "id": "e4042d77-25c5-4bb8-8303-e8ade613b18c",
   "metadata": {},
   "outputs": [],
   "source": []
  }
 ],
 "metadata": {
  "kernelspec": {
   "display_name": "Python 3 (ipykernel)",
   "language": "python",
   "name": "python3"
  },
  "language_info": {
   "codemirror_mode": {
    "name": "ipython",
    "version": 3
   },
   "file_extension": ".py",
   "mimetype": "text/x-python",
   "name": "python",
   "nbconvert_exporter": "python",
   "pygments_lexer": "ipython3",
   "version": "3.12.2"
  }
 },
 "nbformat": 4,
 "nbformat_minor": 5
}
