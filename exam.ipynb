{
 "cells": [
  {
   "cell_type": "code",
   "execution_count": 1,
   "id": "c7a6ccdb-2082-4e1b-a499-f79e3252dce8",
   "metadata": {},
   "outputs": [],
   "source": [
    "import pandas as pd\n",
    "from cf import ItemCF\n",
    "from mf import MFModel"
   ]
  },
  {
   "cell_type": "code",
   "execution_count": 2,
   "id": "8db18ef1-1169-4546-bc85-153a6b494c20",
   "metadata": {},
   "outputs": [],
   "source": [
    "links = pd.read_csv(\"./data/links.csv\")\n",
    "movies = pd.read_csv(\"./data/movies.csv\")\n",
    "ratings = pd.read_csv(\"./data/ratings.csv\")\n",
    "tags = pd.read_csv(\"./data/tags.csv\")"
   ]
  },
  {
   "cell_type": "markdown",
   "id": "aa92651b-14e8-4502-a2f0-cfe4e516d2f9",
   "metadata": {},
   "source": [
    "# Question 2\n",
    "## Item-Based Collaborative Filtering model with similarity scores"
   ]
  },
  {
   "cell_type": "code",
   "execution_count": 4,
   "id": "e3b6cf5d-2b79-4e7c-a091-ca7b423e86a6",
   "metadata": {},
   "outputs": [
    {
     "name": "stdout",
     "output_type": "stream",
     "text": [
      "Top 10 similar movies for ids 260, 1407 and 4993:\n"
     ]
    },
    {
     "data": {
      "text/plain": [
       "{260: [1196, 1210, 1198, 2571, 1291, 1270, 2628, 1240, 858, 2028],\n",
       " 1407: [1717, 2710, 1387, 1573, 2115, 3499, 1517, 2502, 1994, 1393],\n",
       " 4993: [7153, 5952, 6539, 2571, 4306, 2959, 4226, 5349, 3578, 33794]}"
      ]
     },
     "execution_count": 4,
     "metadata": {},
     "output_type": "execute_result"
    }
   ],
   "source": [
    "cf = ItemCF(k=10)\n",
    "cf.fit(ratings)\n",
    "similar = cf.most_similar([260, 1407, 4993])\n",
    "print(\"Top 10 similar movies for ids 260, 1407 and 4993:\")\n",
    "similar"
   ]
  },
  {
   "cell_type": "markdown",
   "id": "886e14b2-83be-4c87-8437-ac41e3af4585",
   "metadata": {},
   "source": [
    "# Question 3\n",
    "## Matrix Factorization model"
   ]
  },
  {
   "cell_type": "code",
   "execution_count": 13,
   "id": "07944f8c-f23a-4ba5-b41d-5d10616728e7",
   "metadata": {},
   "outputs": [
    {
     "name": "stdout",
     "output_type": "stream",
     "text": [
      "Epoch 5: Loss = 30.8307\n",
      "Epoch 10: Loss = 27.7287\n",
      "Epoch 15: Loss = 24.9674\n",
      "Epoch 20: Loss = 22.5225\n",
      "Epoch 25: Loss = 20.3646\n",
      "Epoch 30: Loss = 18.4625\n",
      "\n",
      "Top 10 movie recommendations for users 1, 2, and 3:\n",
      "User 1: [3371, 5011, 9501, 4453, 8470, 3149, 4467, 1786, 5327, 3051]\n",
      "User 2: [2284, 9170, 843, 1342, 5519, 623, 753, 8682, 8850, 8536]\n",
      "User 3: [114, 881, 2823, 8242, 3225, 8583, 1342, 8941, 5396, 7883]\n"
     ]
    }
   ],
   "source": [
    "# Encode user and movie IDs as categorical indices\n",
    "ratings['u_idx'] = ratings.userId.astype('category').cat.codes  # maps userId to internal index\n",
    "ratings['m_idx'] = ratings.movieId.astype('category').cat.codes  # maps movieId to internal index\n",
    "\n",
    "# Initialize the matrix factorization model\n",
    "n_users = ratings['u_idx'].nunique()\n",
    "n_items = ratings['m_idx'].nunique()\n",
    "model = MFModel(n_users, n_items, n_latent=32)\n",
    "\n",
    "# Train the model on the ratings data\n",
    "MFModel.train(model, ratings, n_epochs=30)\n",
    "\n",
    "# Generate top 10 movie recommendations for user IDs 1, 2, and 3\n",
    "# map original user IDs to internal indices used in training\n",
    "original_user_ids = [1, 2, 3]\n",
    "internal_user_ids = [ratings[ratings.userId == uid].u_idx.values[0] for uid in original_user_ids]\n",
    "\n",
    "# Get recommendations\n",
    "recs = MFModel.recommend_top_k(model, internal_user_ids, k=10)\n",
    "\n",
    "# Map back internal user IDs to original user IDs for display\n",
    "user_id_map = dict(enumerate(ratings.userId.astype('category').cat.categories))\n",
    "final_recommendations = {\n",
    "    user_id_map[uid]: recs[uid] for uid in recs\n",
    "}\n",
    "\n",
    "# Display recommendations\n",
    "print(\"\")\n",
    "print(\"Top 10 movie recommendations for users 1, 2, and 3:\")\n",
    "for user, movie_ids in final_recommendations.items():\n",
    "    print(f\"User {user}: {movie_ids}\")"
   ]
  },
  {
   "cell_type": "markdown",
   "id": "2249665d-5c34-4d1d-92fc-619350d6cc5d",
   "metadata": {},
   "source": [
    "# Question 4\n",
    "## improvements in the recommendation system"
   ]
  },
  {
   "cell_type": "markdown",
   "id": "dbe2b198-5678-4cb2-b54d-3540cf2ad704",
   "metadata": {},
   "source": [
    "With access to item features and an open-source LLM, one effective way to improve the recommendation system is to enhance the matrix factorization model by incorporating content-based item embeddings. We can use the LLM to generate dense feature vectors from item metadata (e.g., movie descriptions, tags, or genres), and then integrate these vectors directly into the model’s item representation (item_q). By combining learned latent embeddings with LLM-derived semantic features, we create a hybrid model that captures both collaborative and content-based signals. This improves personalization, reduces cold-start issues, and makes recommendations more robust and explainable."
   ]
  }
 ],
 "metadata": {
  "kernelspec": {
   "display_name": "Python 3 (ipykernel)",
   "language": "python",
   "name": "python3"
  },
  "language_info": {
   "codemirror_mode": {
    "name": "ipython",
    "version": 3
   },
   "file_extension": ".py",
   "mimetype": "text/x-python",
   "name": "python",
   "nbconvert_exporter": "python",
   "pygments_lexer": "ipython3",
   "version": "3.12.2"
  }
 },
 "nbformat": 4,
 "nbformat_minor": 5
}
