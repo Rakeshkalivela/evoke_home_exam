{
 "cells": [
  {
   "cell_type": "code",
   "execution_count": 1,
   "id": "c7a6ccdb-2082-4e1b-a499-f79e3252dce8",
   "metadata": {},
   "outputs": [],
   "source": [
    "import pandas as pd\n",
    "from cf import ItemCF\n",
    "from mf import MFModel\n",
    "from sklearn.model_selection import train_test_split"
   ]
  },
  {
   "cell_type": "code",
   "execution_count": 2,
   "id": "8db18ef1-1169-4546-bc85-153a6b494c20",
   "metadata": {},
   "outputs": [],
   "source": [
    "links = pd.read_csv(\"./data/links.csv\")\n",
    "movies = pd.read_csv(\"./data/movies.csv\")\n",
    "ratings = pd.read_csv(\"./data/ratings.csv\")\n",
    "tags = pd.read_csv(\"./data/tags.csv\")"
   ]
  },
  {
   "cell_type": "markdown",
   "id": "aa92651b-14e8-4502-a2f0-cfe4e516d2f9",
   "metadata": {},
   "source": [
    "# Question 2\n",
    "## Item-Based Collaborative Filtering model with similarity scores"
   ]
  },
  {
   "cell_type": "code",
   "execution_count": 4,
   "id": "e3b6cf5d-2b79-4e7c-a091-ca7b423e86a6",
   "metadata": {},
   "outputs": [
    {
     "name": "stdout",
     "output_type": "stream",
     "text": [
      "Top 10 similar movies for ids 260, 1407 and 4993:\n"
     ]
    },
    {
     "data": {
      "text/plain": [
       "{260: [1196, 1210, 1198, 2571, 1291, 1270, 2628, 1240, 858, 2028],\n",
       " 1407: [1717, 2710, 1387, 1573, 2115, 3499, 1517, 2502, 1994, 1393],\n",
       " 4993: [7153, 5952, 6539, 2571, 4306, 2959, 4226, 5349, 3578, 33794]}"
      ]
     },
     "execution_count": 4,
     "metadata": {},
     "output_type": "execute_result"
    }
   ],
   "source": [
    "cf = ItemCF(k=10)\n",
    "cf.fit(ratings)\n",
    "similar = cf.most_similar([260, 1407, 4993])\n",
    "print(\"Top 10 similar movies for ids 260, 1407 and 4993:\")\n",
    "similar"
   ]
  },
  {
   "cell_type": "code",
   "execution_count": 5,
   "id": "7d5d96ea-bfa7-42dc-bfab-825da3a2b70b",
   "metadata": {},
   "outputs": [
    {
     "name": "stdout",
     "output_type": "stream",
     "text": [
      "\n",
      "For movie:\n",
      "Star Wars: Episode IV - A New Hope (1977) (movieId: 260)\n",
      "\n",
      "Top 10 Similar Movies:\n",
      "\n",
      "   movieId                                              title\n",
      "0      858                              Godfather, The (1972)\n",
      "1     1196  Star Wars: Episode V - The Empire Strikes Back...\n",
      "2     1198  Raiders of the Lost Ark (Indiana Jones and the...\n",
      "3     1210  Star Wars: Episode VI - Return of the Jedi (1983)\n",
      "4     1240                             Terminator, The (1984)\n",
      "5     1270                          Back to the Future (1985)\n",
      "6     1291          Indiana Jones and the Last Crusade (1989)\n",
      "7     2028                         Saving Private Ryan (1998)\n",
      "8     2571                                 Matrix, The (1999)\n",
      "9     2628   Star Wars: Episode I - The Phantom Menace (1999)\n"
     ]
    }
   ],
   "source": [
    "cf.print_similar_table(260, movies)"
   ]
  },
  {
   "cell_type": "markdown",
   "id": "886e14b2-83be-4c87-8437-ac41e3af4585",
   "metadata": {},
   "source": [
    "# Question 3\n",
    "## Matrix Factorization model"
   ]
  },
  {
   "cell_type": "code",
   "execution_count": 27,
   "id": "07944f8c-f23a-4ba5-b41d-5d10616728e7",
   "metadata": {},
   "outputs": [
    {
     "name": "stdout",
     "output_type": "stream",
     "text": [
      "Epoch 1: Loss = 25.2011 | Test RMSE = 4.5230\n",
      "Epoch 2: Loss = 20.9938 | Test RMSE = 4.2732\n",
      "Epoch 3: Loss = 17.5252 | Test RMSE = 4.0435\n",
      "Epoch 4: Loss = 14.6826 | Test RMSE = 3.8331\n",
      "Epoch 5: Loss = 12.3609 | Test RMSE = 3.6407\n",
      "Epoch 6: Loss = 10.4684 | Test RMSE = 3.4653\n",
      "Epoch 7: Loss = 8.9264 | Test RMSE = 3.3053\n",
      "Epoch 8: Loss = 7.6692 | Test RMSE = 3.1593\n",
      "Epoch 9: Loss = 6.6423 | Test RMSE = 3.0260\n",
      "Epoch 10: Loss = 5.8011 | Test RMSE = 2.9042\n",
      "Epoch 11: Loss = 5.1093 | Test RMSE = 2.7926\n",
      "Epoch 12: Loss = 4.5378 | Test RMSE = 2.6902\n",
      "Epoch 13: Loss = 4.0630 | Test RMSE = 2.5960\n",
      "Epoch 14: Loss = 3.6662 | Test RMSE = 2.5092\n",
      "Epoch 15: Loss = 3.3325 | Test RMSE = 2.4291\n",
      "Epoch 16: Loss = 3.0497 | Test RMSE = 2.3549\n",
      "Epoch 17: Loss = 2.8085 | Test RMSE = 2.2860\n",
      "Epoch 18: Loss = 2.6013 | Test RMSE = 2.2218\n",
      "Epoch 19: Loss = 2.4219 | Test RMSE = 2.1620\n",
      "Epoch 20: Loss = 2.2657 | Test RMSE = 2.1062\n",
      "Epoch 21: Loss = 2.1286 | Test RMSE = 2.0539\n",
      "Epoch 22: Loss = 2.0078 | Test RMSE = 2.0049\n",
      "Epoch 23: Loss = 1.9005 | Test RMSE = 1.9589\n",
      "Epoch 24: Loss = 1.8049 | Test RMSE = 1.9157\n",
      "Epoch 25: Loss = 1.7191 | Test RMSE = 1.8751\n",
      "Epoch 26: Loss = 1.6420 | Test RMSE = 1.8369\n",
      "Epoch 27: Loss = 1.5722 | Test RMSE = 1.8009\n",
      "Epoch 28: Loss = 1.5090 | Test RMSE = 1.7670\n",
      "Epoch 29: Loss = 1.4515 | Test RMSE = 1.7350\n",
      "Epoch 30: Loss = 1.3990 | Test RMSE = 1.7047\n",
      "\n",
      "Top 10 recommended movies for users 1, 2 and 3:\n"
     ]
    },
    {
     "data": {
      "text/plain": [
       "{1: [7576, 8840, 8011, 348, 6883, 2527, 3805, 8320, 8249, 3930],\n",
       " 2: [8002, 9534, 5203, 6081, 7702, 5229, 6534, 4122, 8708, 5353],\n",
       " 3: [1864, 7813, 1688, 5455, 1926, 1714, 8213, 3856, 4284, 8160]}"
      ]
     },
     "execution_count": 27,
     "metadata": {},
     "output_type": "execute_result"
    }
   ],
   "source": [
    "# Encode IDs\n",
    "ratings['u_idx'] = ratings.userId.astype('category').cat.codes\n",
    "ratings['m_idx'] = ratings.movieId.astype('category').cat.codes\n",
    "uidx = dict(enumerate(ratings.userId.astype('category').cat.categories))\n",
    "midx = dict(enumerate(ratings.movieId.astype('category').cat.categories))\n",
    "ridx = {i: r for i, r in midx.items()}\n",
    "\n",
    "# Train-test split\n",
    "train_df, test_df = train_test_split(ratings, test_size=0.2, random_state=42)\n",
    "\n",
    "# Model init + train\n",
    "n_users = ratings.u_idx.nunique()\n",
    "n_items = ratings.m_idx.nunique()\n",
    "model = MFModel(n_users, n_items, n_latent=20)\n",
    "model.train_model(train_df, test_df, n_epochs=30, lambda_=0.05)\n",
    "\n",
    "# Recomended movie IDs display\n",
    "print(\"\\nTop 10 recommended movies for users 1, 2 and 3:\")\n",
    "model.recommend_top_k(user_ids=[1, 2, 3], k=10)\n"
   ]
  },
  {
   "cell_type": "code",
   "execution_count": 19,
   "id": "78ccd544-c06e-4cda-8c3d-110ffbfd973b",
   "metadata": {},
   "outputs": [
    {
     "name": "stdout",
     "output_type": "stream",
     "text": [
      "\n",
      "Top 5 movies rated by user 1:\n",
      "\n",
      "   movieId                                      title  rating\n",
      "0     5060               M*A*S*H (a.k.a. MASH) (1970)     5.0\n",
      "1     2872                           Excalibur (1981)     5.0\n",
      "2     1291  Indiana Jones and the Last Crusade (1989)     5.0\n",
      "3     1298                Pink Floyd: The Wall (1982)     5.0\n",
      "4     2948               From Russia with Love (1963)     5.0\n",
      "\n",
      "Top 10 movie recommendations for user 1:\n",
      "\n",
      "   movieId                                  title\n",
      "0     6598                Step Into Liquid (2002)\n",
      "1     7839                      Love Crazy (1941)\n",
      "2     8191       Anne of the Thousand Days (1969)\n",
      "3    59731       Bigger, Stronger, Faster* (2008)\n",
      "4    97194  Thing: Terror Takes Shape, The (1998)\n",
      "5    98083                     Jackass 3.5 (2011)\n",
      "6   101884                       Dark Tide (2012)\n",
      "7   104760                         Getaway (2013)\n",
      "8   105835                     Double, The (2013)\n",
      "9   181659    Craig Ferguson: Tickle Fight (2017)\n"
     ]
    }
   ],
   "source": [
    "# Recommended movie title display\n",
    "model.display_user_recommendations(user_id=1, ratings_df=ratings, movies_df=movies, ridx=ridx, k=10)"
   ]
  },
  {
   "cell_type": "markdown",
   "id": "2249665d-5c34-4d1d-92fc-619350d6cc5d",
   "metadata": {},
   "source": [
    "# Question 4\n",
    "## improvements in the recommendation system"
   ]
  },
  {
   "cell_type": "markdown",
   "id": "dbe2b198-5678-4cb2-b54d-3540cf2ad704",
   "metadata": {},
   "source": [
    "With access to item features and an open-source LLM, one effective way to improve the recommendation system is to enhance the matrix factorization model by incorporating content-based item embeddings. We can use the LLM to generate dense feature vectors from item metadata (e.g., movie descriptions, tags, or genres), and then integrate these vectors directly into the model’s item representation (item_q). By combining learned latent embeddings with LLM-derived semantic features, we create a hybrid model that captures both collaborative and content-based signals. This improves personalization, reduces cold-start issues, and makes recommendations more robust and explainable."
   ]
  }
 ],
 "metadata": {
  "kernelspec": {
   "display_name": "Python 3 (ipykernel)",
   "language": "python",
   "name": "python3"
  },
  "language_info": {
   "codemirror_mode": {
    "name": "ipython",
    "version": 3
   },
   "file_extension": ".py",
   "mimetype": "text/x-python",
   "name": "python",
   "nbconvert_exporter": "python",
   "pygments_lexer": "ipython3",
   "version": "3.12.2"
  }
 },
 "nbformat": 4,
 "nbformat_minor": 5
}
